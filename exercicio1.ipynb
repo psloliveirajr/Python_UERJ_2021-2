{
  "nbformat": 4,
  "nbformat_minor": 0,
  "metadata": {
    "kernelspec": {
      "display_name": "Python 3",
      "language": "python",
      "name": "python3"
    },
    "language_info": {
      "codemirror_mode": {
        "name": "ipython",
        "version": 3
      },
      "file_extension": ".py",
      "mimetype": "text/x-python",
      "name": "python",
      "nbconvert_exporter": "python",
      "pygments_lexer": "ipython3",
      "version": "3.7.0"
    },
    "colab": {
      "name": "exercicio1.ipynb",
      "provenance": [],
      "collapsed_sections": [],
      "include_colab_link": true
    }
  },
  "cells": [
    {
      "cell_type": "markdown",
      "metadata": {
        "id": "view-in-github",
        "colab_type": "text"
      },
      "source": [
        "<a href=\"https://colab.research.google.com/github/psloliveirajr/Python_UERJ_2021-2/blob/main/exercicio1.ipynb\" target=\"_parent\"><img src=\"https://colab.research.google.com/assets/colab-badge.svg\" alt=\"Open In Colab\"/></a>"
      ]
    },
    {
      "cell_type": "markdown",
      "metadata": {
        "id": "AorQXEEymp38"
      },
      "source": [
        "# Exercícios\n",
        "\n",
        "### Exercício 1:\n",
        "Escreva na tela do modo prompt: \"mundo, mundo, vasto mundo\""
      ]
    },
    {
      "cell_type": "code",
      "metadata": {
        "scrolled": true,
        "id": "iNQorxmdmp3-"
      },
      "source": [
        "print('mundo, mundo, vasto mundo')"
      ],
      "execution_count": null,
      "outputs": []
    },
    {
      "cell_type": "markdown",
      "metadata": {
        "id": "dVoNJP3rmp4D"
      },
      "source": [
        "### Exercício 2:\n",
        "Imprima na tela a documentação da função *print*"
      ]
    },
    {
      "cell_type": "code",
      "metadata": {
        "scrolled": true,
        "id": "e-tjr2J1mp4E"
      },
      "source": [
        "help('print')"
      ],
      "execution_count": null,
      "outputs": []
    },
    {
      "cell_type": "markdown",
      "metadata": {
        "id": "sE4F0ZW6mp4H"
      },
      "source": [
        "### Exercício 3:\n",
        "Inicie o interpretador Python e use-o como uma calculadora. A sintaxe do Python para operações matemáticas é quase igual à notação matemática padrão: \n",
        "* adição: + \n",
        "* subtração: - \n",
        "* divisão: /\n",
        "* multiplicação: *\n",
        "   \n",
        "   \n",
        "***Se você fizer uma corrida de 10 quilômetros em 43 minutos e 30 segundos, qual será seu tempo médio por milha? Qual é a sua velocidade média em milhas por hora? (Dica: há 1,61 quilômetros em uma milha).***"
      ]
    },
    {
      "cell_type": "code",
      "metadata": {
        "colab": {
          "base_uri": "https://localhost:8080/"
        },
        "id": "7ADkiCHCgaMD",
        "outputId": "9276b244-fd80-4bdc-9032-52f6b9a31810"
      },
      "source": [
        "distancia_milha = 10/1.61\n",
        "tempo_segundo = 43*60 + 30 \n",
        "tempo_minuto = tempo_segundo/60\n",
        "tempo_hora = tempo_minuto/60  \n",
        "\n",
        "tempo_medio =  tempo_segundo/distancia_milha # segundo/milha\n",
        "velocidade_media = distancia_milha/tempo_hora # milha/hora\n",
        "\n",
        "horas = tempo_medio//3600\n",
        "minutos = (tempo_medio%3600)//60\n",
        "segundos = (tempo_medio%3600)%60\n",
        "\n",
        "print(\"O tempo médio por milha é:\",horas,\"horas\",minutos,\"minutos\",segundos,\"segundos\")\n",
        "print(\"A velocidade média em milhas por hora é:\",velocidade_media,\"mph\")"
      ],
      "execution_count": null,
      "outputs": [
        {
          "output_type": "stream",
          "text": [
            "O tempo médio por milha é: 0.0 horas 7.0 minutos 0.21000000000003638 segundos\n",
            "A velocidade média em milhas por hora é: 8.567144998929106 mph\n"
          ],
          "name": "stdout"
        }
      ]
    }
  ]
}