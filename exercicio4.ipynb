{
  "nbformat": 4,
  "nbformat_minor": 0,
  "metadata": {
    "kernelspec": {
      "display_name": "Python 3",
      "language": "python",
      "name": "python3"
    },
    "language_info": {
      "codemirror_mode": {
        "name": "ipython",
        "version": 3
      },
      "file_extension": ".py",
      "mimetype": "text/x-python",
      "name": "python",
      "nbconvert_exporter": "python",
      "pygments_lexer": "ipython3",
      "version": "3.6.4"
    },
    "colab": {
      "name": "exercicio4.ipynb",
      "provenance": [],
      "collapsed_sections": [],
      "include_colab_link": true
    }
  },
  "cells": [
    {
      "cell_type": "markdown",
      "metadata": {
        "id": "view-in-github",
        "colab_type": "text"
      },
      "source": [
        "<a href=\"https://colab.research.google.com/github/psloliveirajr/Python_UERJ_2021-2/blob/main/exercicio4.ipynb\" target=\"_parent\"><img src=\"https://colab.research.google.com/assets/colab-badge.svg\" alt=\"Open In Colab\"/></a>"
      ]
    },
    {
      "cell_type": "markdown",
      "metadata": {
        "id": "lLw95iEWzVdr"
      },
      "source": [
        "### Exercício:\n",
        "\n",
        "   1. Escreva uma função com um valor de retorno que:\n",
        "      * tome como _input_ dois argumentos;\n",
        "      * execute a soma dos dois parâmetros que foram passados como argumento e atribua o resultado a uma variável;\n",
        "      * tenha como valor de retorno o dobro da soma dos dois parâmetros.\n",
        "\n"
      ]
    },
    {
      "cell_type": "code",
      "metadata": {
        "id": "ITOxPcEkqdqW"
      },
      "source": [
        "def dobro_da_soma(val1,val2):\n",
        "  soma = val1 + val2\n",
        "  dobro = soma*2\n",
        "  return dobro\n",
        "\n",
        "val1 = 35\n",
        "val2 = 65\n",
        "print(\"O dobor da soma é:\",dobro_da_soma(val1,val2))"
      ],
      "execution_count": null,
      "outputs": []
    },
    {
      "cell_type": "markdown",
      "metadata": {
        "id": "yPJ8E1mJqhET"
      },
      "source": [
        "   2. Um objeto de função é um valor que você pode atribuir a uma variável ou passar como um argumento. Por exemplo, ```do_twice``` é uma função que usa um objeto de função como argumento e o chama duas vezes:"
      ]
    },
    {
      "cell_type": "code",
      "metadata": {
        "id": "woArOSSNzVds"
      },
      "source": [
        "def do_twice (f): \n",
        "    f () \n",
        "    f ()"
      ],
      "execution_count": null,
      "outputs": []
    },
    {
      "cell_type": "markdown",
      "metadata": {
        "id": "lbP8VjuQzVdu"
      },
      "source": [
        "Aqui está um exemplo que usa ```do_twice``` para chamar uma função chamada ```print_spam``` duas vezes.\n"
      ]
    },
    {
      "cell_type": "code",
      "metadata": {
        "id": "-h-QwkrvzVdw",
        "colab": {
          "base_uri": "https://localhost:8080/"
        },
        "outputId": "15db9c3e-4d75-4bf6-ad86-877a72d72081"
      },
      "source": [
        "def print_spam (): \n",
        "    print('spam') \n",
        "\n",
        "do_twice (print_spam)"
      ],
      "execution_count": null,
      "outputs": [
        {
          "output_type": "stream",
          "text": [
            "spam\n",
            "spam\n"
          ],
          "name": "stdout"
        }
      ]
    },
    {
      "cell_type": "markdown",
      "metadata": {
        "id": "DL4IUvnOzVdz"
      },
      "source": [
        "Para este exercício :\n",
        "\n",
        "  a. Digite este exemplo em um script e teste-o.\n",
        "\n",
        "  b. Modifique ```do_twice``` para que sejam necessários dois argumentos, um objeto de função ``f`` e um valor ``x``, e chame a função duas vezes, passando o valor como um argumento.\n",
        "\n",
        "  c. Escreva uma versão mais geral de ```print_spam```, chamada ```print_twice```, que use uma _string_ como parâmetro e imprima duas vezes.\n",
        "\n",
        "  d. Use a versão modificada (no item b) de ``` do_twice``` para chamar ```print_twice``` duas vezes, passando ```'spam'``` como um argumento.\n",
        "\n",
        "  e. Defina uma nova função chamada ```do_four``` que recebe um objeto de função e um valor e chama a função ___quatro___ vezes, passando o valor como um parâmetro. Deve haver apenas duas declarações no corpo desta função, e não quatro.\n",
        "\n",
        "  "
      ]
    },
    {
      "cell_type": "code",
      "metadata": {
        "colab": {
          "base_uri": "https://localhost:8080/"
        },
        "id": "g12TKnPgpDZt",
        "outputId": "7c605521-a005-45d4-f074-9717fcb68081"
      },
      "source": [
        "def do_twice(f,x): \n",
        "    f(x) \n",
        "    f(x)\n",
        "\n",
        "def print_twice(x): \n",
        "    do_twice(print,x)\n",
        "\n",
        "do_twice(print_twice,'spam')\n",
        "print()\n",
        "\n",
        "def do_four(f,x): \n",
        "    do_twice(f,x) \n",
        "    do_twice(f,x)\n",
        "\n",
        "do_four(print_twice,'spam')"
      ],
      "execution_count": null,
      "outputs": [
        {
          "output_type": "stream",
          "text": [
            "spam\n",
            "spam\n",
            "spam\n",
            "spam\n",
            "\n",
            "spam\n",
            "spam\n",
            "spam\n",
            "spam\n",
            "spam\n",
            "spam\n",
            "spam\n",
            "spam\n"
          ],
          "name": "stdout"
        }
      ]
    }
  ]
}