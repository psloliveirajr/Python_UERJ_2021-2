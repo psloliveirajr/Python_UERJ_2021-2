{
  "nbformat": 4,
  "nbformat_minor": 0,
  "metadata": {
    "kernelspec": {
      "display_name": "Python 3",
      "language": "python",
      "name": "python3"
    },
    "language_info": {
      "codemirror_mode": {
        "name": "ipython",
        "version": 3
      },
      "file_extension": ".py",
      "mimetype": "text/x-python",
      "name": "python",
      "nbconvert_exporter": "python",
      "pygments_lexer": "ipython3",
      "version": "3.6.4"
    },
    "colab": {
      "name": "exercicio5.ipynb",
      "provenance": [],
      "include_colab_link": true
    }
  },
  "cells": [
    {
      "cell_type": "markdown",
      "metadata": {
        "id": "view-in-github",
        "colab_type": "text"
      },
      "source": [
        "<a href=\"https://colab.research.google.com/github/psloliveirajr/Python_UERJ_2021-2/blob/main/exercicio5.ipynb\" target=\"_parent\"><img src=\"https://colab.research.google.com/assets/colab-badge.svg\" alt=\"Open In Colab\"/></a>"
      ]
    },
    {
      "cell_type": "markdown",
      "metadata": {
        "id": "9qxCNQPhyhl2"
      },
      "source": [
        "### Exercícios:\n",
        "1. Modifique o programa da tartaruga (primeiro exemplo) para que, antes de criar a janela, ele solicite que o usuário insira a cor de fundo desejada. Ele deve armazenar as respostas do usuário em uma variável e modificar a cor da janela de acordo com os desejos do usuário. \n",
        "   * ***Dicas***: faça uso da função ***input***, built-in do python\n",
        "   * você pode encontrar uma lista de nomes de cores permitidos em http://www.tcl.tk/man/tcl8.4/TkCmd/colors.htm. Inclui alguns bem incomuns, como “peach puff” e “HotPink” ”***\n",
        "   \n",
        "1. Faça modificações similares para permitir que o usuário mude a cor da tartaruga durante a execução do programa.\n",
        "   1. Faça o mesmo para a largura da caneta da tartaruga. *Dica: seu diálogo com o usuário retornará uma string, mas o método **pensize** espera que seu argumento seja um **int**. Então, você precisará converter a **string** em um **int** antes de passá-la para **pensize**.*   \n",
        "   \n",
        "1. Investiguem os métodos e tipos do módulo turtle;\n",
        "\n",
        "1. Desenhe um quadrado, usando a forma de tartaruga, ao invés da flecha, para desenhar.\n",
        "   1. mude a velocidade com que a tartaruga faz o desenho\n",
        "   \n",
        "1. Sabendo que o ângulo interno da ponta de uma estrela de 5 pontas é de 36 graus, desenhe uma estrela em uma janela.\n",
        "![title](https://github.com/malbouis/Python_intro/blob/master/aulas_2019/pics/estrela.png?raw=1)\n",
        "\n",
        "1. Sabendo o ângulo interno da ponta de uma estrela, desenhe quatro estrelas em uma janela, com uma certa distância entre elas. Dica: use a função penup() e pendown() do módulo turtle"
      ]
    },
    {
      "cell_type": "code",
      "metadata": {
        "id": "fLLmXmMOjicL"
      },
      "source": [
        "# Questão 1\n",
        "import turtle             # nos permite usar as tartarugas (turtles)\n",
        "jn = turtle.Screen()      # Abre uma janela onde as tartarugas vão caminhar\n",
        "bg_color = input(\"Insira a cor de fundo:\")\n",
        "jn.bgcolor(bg_color)\n",
        "joana = turtle.Turtle()    # Cria uma tartaruga, atribui a joana\n",
        "\n",
        "joana.forward(50)          # diz para joana andar para frente por 50 unidades\n",
        "joana.left(90)             # diz para joana virar de 90 graus\n",
        "joana.forward(30)          # Completa o segundo lado do retângulo\n",
        "\n",
        "jn.mainloop()             # Espera o usuário fechar a janela"
      ],
      "execution_count": null,
      "outputs": []
    },
    {
      "cell_type": "code",
      "metadata": {
        "id": "m16HsQrnrJ80"
      },
      "source": [
        "# Questão 2\n",
        "import turtle             # nos permite usar as tartarugas (turtles)\n",
        "jn = turtle.Screen()      # Abre uma janela onde as tartarugas vão caminhar\n",
        "bg_color = input(\"Insira a cor de fundo:\")\n",
        "jn.bgcolor(bg_color)\n",
        "joana = turtle.Turtle()    # Cria uma tartaruga, atribui a joana\n",
        "pen_color = input(\"Insira a cor da caneta:\")\n",
        "joana.pencolor(pen_color)\n",
        "pen_size = int(input(\"Insira a largura da caneta\"))\n",
        "joana.pensize(pen_size)\n",
        "\n",
        "joana.forward(50)          # diz para joana andar para frente por 50 unidades\n",
        "joana.left(90)             # diz para joana virar de 90 graus\n",
        "joana.forward(30)          # Completa o segundo lado do retângulo\n",
        "\n",
        "jn.mainloop()             # Espera o usuário fechar a janela"
      ],
      "execution_count": null,
      "outputs": []
    },
    {
      "cell_type": "code",
      "metadata": {
        "id": "6BVGbR8CdMm4"
      },
      "source": [
        "# Questão 4\n",
        "# Essa questão não entendi"
      ],
      "execution_count": null,
      "outputs": []
    },
    {
      "cell_type": "code",
      "metadata": {
        "id": "mu13SkOZd3Pc"
      },
      "source": [
        "# Questão 5\n",
        "import turtle            \n",
        "et = turtle.Screen()      \n",
        "estrela = turtle.Turtle()    \n",
        "\n",
        "estrela.penup()             \n",
        "estrela.goto(-150, 0)       \n",
        "estrela.pendown()              \n",
        "\n",
        "for i in range(5):\n",
        "  estrela.forward(300)          \n",
        "  estrela.right(180-36) \n",
        "\n",
        "et.mainloop()   "
      ],
      "execution_count": null,
      "outputs": []
    },
    {
      "cell_type": "code",
      "metadata": {
        "id": "t_3rqcPih_nX"
      },
      "source": [
        "# Questão 6\n",
        "import turtle            \n",
        "et = turtle.Screen()      \n",
        "estrela = turtle.Turtle()    \n",
        "\n",
        "estrela.penup()             \n",
        "estrela.goto(-150, 0)       \n",
        "estrela.pendown()              \n",
        "\n",
        "def draw_star(length,angle):\n",
        "  for i in range(5):\n",
        "    estrela.forward(length)          \n",
        "    estrela.right(180-angle)\n",
        "\n",
        "for i in range(4):\n",
        "  draw_star(50,36)\n",
        "  estrela.penup()             \n",
        "  estrela.forward(50 + 10)       \n",
        "  estrela.pendown()  \n",
        "\n",
        "et.mainloop()   "
      ],
      "execution_count": null,
      "outputs": []
    },
    {
      "cell_type": "markdown",
      "metadata": {
        "id": "b2s6FcByyhl-"
      },
      "source": [
        "### Exercícios em preparação para os próximos capítulos\n",
        "\n",
        "1. Escreva uma função chamada `square`, que toma um parâmetro `t`, que é uma `Turtle`. Essa função deve usar o `turtle` para desenhar um quadrado. Escreva uma chamada de função que passe `joana` como argumento para `square` e rode o programa novamente. \n",
        "\n",
        "1. Adicione um outro parâmetro, chamado `length`, à função `square`. Modifique o corpo da função de tal forma que o comprimento dos lados do quadrado seja `length` e então modifique a chamada da função para que seja passado o segundo argumento. Rode o programa novamente. Teste o seu programa com diversos valores para `length`.\n",
        "\n",
        "1. Faça uma cópia da função `square` e mude o nome para `polygon`. Adicione um outro parâmetro chamado `n` e modifique o corpo da função para que ela desenhe um polígono regular de `n` lados. Dica: Os ângulos externos de um polígono regular de `n` lados são de `360/n` graus.  \n",
        "\n",
        "1. Escreva uma função chamada `circle` que toma como argumento uma `Turtle`, `t`, e um raio, `r`, e desenha um círculo aproximado ao chamar a função `polygon` com `length` e número `n` de lados apropriados. Teste sua função com um intervalo de valores de `r`. Dica: Determine a circunferência do círculo e se certifique que `length * n = circunferência`.\n",
        "\n",
        "1. Faça uma versão mais geral da função `circle`, chamada `arc`, que toma um parâmetro adicional, `angle`, que determina qual a fração do circulo a ser desenhada. `angle` está em unidades de graus, logo quando `angle=360`, a função `arc` deve desenhar um cículo completo.\n"
      ]
    },
    {
      "cell_type": "code",
      "metadata": {
        "id": "SNtna0t1gONt"
      },
      "source": [
        "# Questão 1\n",
        "import turtle            \n",
        "jn = turtle.Screen()      \n",
        "joana = turtle.Turtle()    \n",
        "\n",
        "def square(t): \n",
        "  t.penup()             \n",
        "  t.goto(-150, 150)       \n",
        "  t.pendown()              \n",
        "  \n",
        "  for i in range(4):\n",
        "    t.forward(300)          \n",
        "    t.right(90)\n",
        "\n",
        "square(joana)\n",
        "\n",
        "jn.mainloop()             "
      ],
      "execution_count": null,
      "outputs": []
    },
    {
      "cell_type": "code",
      "metadata": {
        "id": "aNuwNKjogROZ"
      },
      "source": [
        "# Questão 2\n",
        "import turtle            \n",
        "   \n",
        "def square(t,l): \n",
        "  t.penup()             \n",
        "  t.goto(-150, 150)       \n",
        "  t.pendown()              \n",
        "  \n",
        "  for i in range(4):\n",
        "    t.forward(l)          \n",
        "    t.right(90)\n",
        "\n",
        "jn = turtle.Screen()      \n",
        "joana = turtle.Turtle() \n",
        "\n",
        "length = 100\n",
        "square(joana,length)\n",
        "\n",
        "jn.mainloop()  "
      ],
      "execution_count": null,
      "outputs": []
    },
    {
      "cell_type": "code",
      "metadata": {
        "id": "grrZGVMjg0qJ"
      },
      "source": [
        "# Questão 3\n",
        "import turtle            \n",
        "   \n",
        "def polygon(t,l,n): \n",
        "  t.penup()             \n",
        "  t.goto(-50, 150)       \n",
        "  t.pendown()              \n",
        "  \n",
        "  for i in range(n):\n",
        "    t.forward(l)          \n",
        "    t.right(360/n)\n",
        "\n",
        "jn = turtle.Screen()      \n",
        "joana = turtle.Turtle() \n",
        "\n",
        "length = 50\n",
        "polygon(joana,length,10)\n",
        "\n",
        "jn.mainloop()\n"
      ],
      "execution_count": null,
      "outputs": []
    },
    {
      "cell_type": "code",
      "metadata": {
        "id": "38uzJZdolZig"
      },
      "source": [
        "# Questão 4\n",
        "import turtle            \n",
        "   \n",
        "def polygon(t,l,n): \n",
        "  t.penup()             \n",
        "  t.goto(0, 150)       \n",
        "  t.pendown()              \n",
        "  \n",
        "  for i in range(n):\n",
        "    t.forward(l)          \n",
        "    t.right(360/n)\n",
        "\n",
        "def circle(t,r):\n",
        "  import math\n",
        "  circunferencia = 2*math.pi*r\n",
        "  length = circunferencia/r\n",
        "  polygon(joana,length,r)\n",
        "\n",
        "jn = turtle.Screen()      \n",
        "joana = turtle.Turtle() \n",
        "\n",
        "raio = 150\n",
        "circle(joana,raio)\n",
        "\n",
        "jn.mainloop()"
      ],
      "execution_count": null,
      "outputs": []
    },
    {
      "cell_type": "code",
      "metadata": {
        "id": "XZxsGdDynN5k"
      },
      "source": [
        "# Questão 5 \n",
        "import turtle            \n",
        "\n",
        "def arc(t,r,a):\n",
        "  import math\n",
        "  circunferencia = 2*math.pi*r\n",
        "  length = circunferencia/r\n",
        "\n",
        "  for i in range(int(r*(a/360))):\n",
        "    t.forward(length)          \n",
        "    t.right(360/r)\n",
        "\n",
        "jn = turtle.Screen()      \n",
        "joana = turtle.Turtle() \n",
        "\n",
        "raio = 90\n",
        "angulo = 120 \n",
        "arc(joana,raio,angulo)\n",
        "\n",
        "jn.mainloop()"
      ],
      "execution_count": null,
      "outputs": []
    }
  ]
}