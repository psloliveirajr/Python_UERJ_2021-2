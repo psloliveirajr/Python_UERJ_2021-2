{
  "nbformat": 4,
  "nbformat_minor": 0,
  "metadata": {
    "colab": {
      "name": "exercicio5b.ipynb",
      "provenance": [],
      "collapsed_sections": [],
      "include_colab_link": true
    },
    "kernelspec": {
      "name": "python3",
      "display_name": "Python 3"
    },
    "language_info": {
      "name": "python"
    }
  },
  "cells": [
    {
      "cell_type": "markdown",
      "metadata": {
        "id": "view-in-github",
        "colab_type": "text"
      },
      "source": [
        "<a href=\"https://colab.research.google.com/github/psloliveirajr/Python_UERJ_2021-2/blob/main/exercicio5b.ipynb\" target=\"_parent\"><img src=\"https://colab.research.google.com/assets/colab-badge.svg\" alt=\"Open In Colab\"/></a>"
      ]
    },
    {
      "cell_type": "markdown",
      "metadata": {
        "id": "Nrky4VThKyZS"
      },
      "source": [
        "## Exercícios - Parte 2:\n",
        "  \n",
        "1. Escreva um conjunto apropriadamente geral de funções que possam desenhar flores como na Figura abaixo:\n",
        "![flowers](https://github.com/malbouis/Python_intro/blob/master/aulas_2019/pics/flowers.png?raw=1)\n",
        "1. Escreva um conjunto apropriadamente geral de funções que podem desenhar formas como na figura:\n",
        "![shapes](https://github.com/malbouis/Python_intro/blob/master/aulas_2019/pics/shapes_turtle.png?raw=1)\n",
        "Veja mais exercícios em: http://greenteapress.com/thinkpython2/html/thinkpython2005.html#sec42\n",
        "e: http://dfnae.fis.uerj.br/twiki/bin/view/DFNAE/IntroPython#Aula_6\n",
        "\n",
        "1. Adicione instruções para desenhar o talo e folha da flor. Faça a refatoração apropriada para a interface da flor completa ficar \"limpa\".\n",
        "1. As letras do alfabeto podem ser construídas a partir de um número moderado de elementos básicos, como linhas verticais e horizontais e algumas curvas. Projete um alfabeto que possa ser desenhado com um número mínimo de elementos básicos e depois escreva funções que desenhem as letras.\n",
        "   1. Você deve escrever uma função para cada letra, com os nomes ```draw_a_```, ```_draw_b_```, etc., e colocar suas funções em um arquivo chamado ```letters.py```. Você pode baixar uma “turtle typewriter” de http://thinkpython2.com/code/typewriter.py para ajudá-lo a testar seu código.\n",
        "   1. Você pode obter uma solução em http://thinkpython2.com/code/letters.py; também requer http://thinkpython2.com/code/polygon.py.\n",
        "1. Leia sobre espirais em http://en.wikipedia.org/wiki/Spiral; em seguida, escreva um programa que desenhe uma espiral arquimediana (ou um dos outros tipos). Solução: http://thinkpython2.com/code/spiral.py."
      ]
    },
    {
      "cell_type": "code",
      "metadata": {
        "id": "4u8tKnBF_xpd"
      },
      "source": [
        "import turtle\n",
        "import math\n",
        "\n",
        "def arc(t, r, angle):\n",
        "  arc_length = 2 * math.pi * r * angle / 360\n",
        "  n = int(arc_length / 3) + 1 \n",
        "  step_length = arc_length / n \n",
        "  step_angle = float(angle) / n \n",
        "  polyline(t, n, step_length, step_angle)\n",
        "\n",
        "def polygon(t, n, length): \n",
        "  angle = 360.0 / n \n",
        "  polyline(t, n, length, angle) \n",
        "\n",
        "def polyline(t, n, length, angle):\n",
        "  \"\"\"Draws n line segments with the given length and\n",
        "  angle (in degrees) between them.  t is a turtle.\n",
        "  \"\"\"    \n",
        "  for i in range(n):\n",
        "    t.forward(int(length))\n",
        "    t.left(angle)\n",
        "\n",
        "def circle(t, r): \n",
        "  arc(t, r, 360)"
      ],
      "execution_count": null,
      "outputs": []
    },
    {
      "cell_type": "code",
      "metadata": {
        "id": "uXkXIfw2tVpM"
      },
      "source": [
        "# Questão 1 \n",
        "def petala(t, r, a):\n",
        "  for i in range(2):\n",
        "    arc(t, r, a)\n",
        "    t.left(180-a)\n",
        "\n",
        "def flor(t,n,r,a):\n",
        "  for i in range(n):\n",
        "    petala(t, r, a)\n",
        "    t.left(360/n)\n",
        "\n",
        "fl = turtle.Screen()      \n",
        "flores = turtle.Turtle() "
      ],
      "execution_count": null,
      "outputs": []
    },
    {
      "cell_type": "code",
      "metadata": {
        "id": "LCkeD3nN_q8n"
      },
      "source": [
        "# Questão 2\n",
        "def triangulo_isoceles(t,h,a):\n",
        "  t.right(a/2)\n",
        "  \n",
        "  angulo_rad = math.radians(a/2)\n",
        "  l_maior = h/math.cos(angulo_rad)\n",
        "  l_menor = 2*h*math.tan(angulo_rad)\n",
        "  \n",
        "  t.forward(l_maior)\n",
        "  t.left(90+a/2)\n",
        "  t.forward(l_menor)\n",
        "  t.left(90+a/2)\n",
        "  t.forward(l_maior)\n",
        "\n",
        "def polygon_triangle(t,h,n):\n",
        "  a = 360/n\n",
        "  for i in range(n):\n",
        "    triangulo_isoceles(t,h,a)\n",
        "    t.left(180-3*a/2)\n",
        "  \n",
        "pl = turtle.Screen()      \n",
        "polygon = turtle.Turtle() "
      ],
      "execution_count": null,
      "outputs": []
    },
    {
      "cell_type": "code",
      "metadata": {
        "id": "yPYduN-VpCBc"
      },
      "source": [
        "# Questão 3 \n",
        "def petala(t, r, a):\n",
        "  for i in range(2):\n",
        "    arc(t, r, a)\n",
        "    t.left(180-a)\n",
        "\n",
        "def flor(t,n,r,a):\n",
        "  for i in range(n):\n",
        "    petala(t, r, a)\n",
        "    t.left(360/n)\n",
        "  talo(t, r, a)\n",
        "\n",
        "def talo(t, r, a):\n",
        "  t.right(90)\n",
        "  t.forward(3*r)\n",
        "  t.right(180)\n",
        "  t.forward(2*r)\n",
        "  petala(t, r, a)\n",
        "  \n",
        "fl = turtle.Screen()      \n",
        "flores = turtle.Turtle() "
      ],
      "execution_count": null,
      "outputs": []
    },
    {
      "cell_type": "code",
      "metadata": {
        "id": "gCfb4xdO3qJJ"
      },
      "source": [
        "# Questão 5 \n",
        "import turtle\n",
        "import math\n",
        "def desenha_spiral(t, n, r):\n",
        "  \"\"\"Desenha um spiral archmediana da origem.\n",
        "    Args:\n",
        "      n: número de voltas\n",
        "      r: raio maximo da spiral\n",
        "  \"\"\"\n",
        "  \n",
        "  graus = n*360\n",
        "  b = r/graus\n",
        "  \n",
        "  for theta in range(graus):\n",
        "    \n",
        "    x = (b * theta) * math.cos(math.radians(theta))\n",
        "    y = (b * theta) * math.sin(math.radians(theta))\n",
        "    t.goto(x, y)\n",
        "    \n",
        "sp = turtle.Screen()      \n",
        "spiral = turtle.Turtle()\n",
        "\n",
        "desenha_spiral(spiral, n=3, r = 300)\n",
        "\n",
        "turtle.mainloop()"
      ],
      "execution_count": null,
      "outputs": []
    }
  ]
}