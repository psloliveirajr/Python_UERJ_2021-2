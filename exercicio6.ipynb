{
  "nbformat": 4,
  "nbformat_minor": 0,
  "metadata": {
    "kernelspec": {
      "display_name": "Python 3",
      "language": "python",
      "name": "python3"
    },
    "language_info": {
      "codemirror_mode": {
        "name": "ipython",
        "version": 3
      },
      "file_extension": ".py",
      "mimetype": "text/x-python",
      "name": "python",
      "nbconvert_exporter": "python",
      "pygments_lexer": "ipython3",
      "version": "3.6.4"
    },
    "colab": {
      "name": "exercicio6.ipynb",
      "provenance": [],
      "collapsed_sections": [],
      "include_colab_link": true
    }
  },
  "cells": [
    {
      "cell_type": "markdown",
      "metadata": {
        "id": "view-in-github",
        "colab_type": "text"
      },
      "source": [
        "<a href=\"https://colab.research.google.com/github/psloliveirajr/Python_UERJ_2021-2/blob/main/exercicio6.ipynb\" target=\"_parent\"><img src=\"https://colab.research.google.com/assets/colab-badge.svg\" alt=\"Open In Colab\"/></a>"
      ]
    },
    {
      "cell_type": "markdown",
      "metadata": {
        "id": "7xJo458eRIz_"
      },
      "source": [
        "### Exercícios\n",
        "\n",
        "1. Considere o seguinte script:"
      ]
    },
    {
      "cell_type": "code",
      "metadata": {
        "id": "vB4IycDrhrGa"
      },
      "source": [
        "import turtle\n",
        "\n",
        "def draw_bar(t, height):\n",
        "    \"\"\" Get turtle t to draw one bar, of height. \"\"\"\n",
        "    t.left(90)\n",
        "    t.forward(height)\n",
        "    t.right(90)\n",
        "    t.forward(40)\n",
        "    t.right(90)\n",
        "    t.forward(height)\n",
        "    t.left(90)\n",
        "    t.forward(10)\n",
        "    #t.leftt(90)\n",
        "\n",
        "tess = turtle.Turtle() #instanciação\n",
        "jn = turtle.Screen()\n",
        "\n",
        "tess.color(\"blue\")\n",
        "jn.bgcolor(\"white\")\n",
        "tess.penup() #levantar a caneta\n",
        "tess.goto(-200,-150) #mudar posicao de inicio \n",
        "tess.pendown() #abaixar a caneta\n",
        "\n",
        "xs = [48,117,200,240,160,260,220]\n",
        "\n",
        "for a in xs:\n",
        "    draw_bar(tess, a)"
      ],
      "execution_count": null,
      "outputs": []
    },
    {
      "cell_type": "markdown",
      "metadata": {
        "id": "7UXSE3AaRI0H"
      },
      "source": [
        "1) Modifique-o para que o resultado seja um **histograma**, como o mostrado na figura abaixo.\n",
        "Amplie seu script para que seja possível passar ao programa dados (frequência), com o valor do bin (classe de frequência) e cores determinados pelo usuário.\n",
        "\n",
        "\n",
        "Adicione declarações condicionais à função para casos passíveis de gerar erros, como por exemplo, se alguma variável do argumento da função não for definida.\n",
        "\n",
        "***Exemplo***: Generalize sua função para tomar como argumento uma lista que contenha as frequências do histograma e verifique que o argumento realmente é uma lista. Caso não seja, imprima uma mensagem de erro.\n",
        "\n",
        "![](https://raw.githubusercontent.com/malbouis/Python_intro/master/aulas_2019/pics/histo.png)\n",
        "\n",
        "2) Repita o exercício 1) usando **Manipulação de exceção em Python** (pesquisem!!!!), com as cláusulas ```try``` e ```except```.  <=== **A ser apresentado em sala de aula**.\n",
        "\n",
        "2) **Desafio**: Faça um programa equivalente ao do item 1., utilizando ***matplotlib*** e ***numpy*** ao invés de ***turtle***"
      ]
    },
    {
      "cell_type": "code",
      "metadata": {
        "id": "KtulGMj6vXqg"
      },
      "source": [
        "import turtle\n",
        "\n",
        "def draw_bar(t, height,color):\n",
        "  \"\"\" Get turtle t to draw one bar, of height. \"\"\"\n",
        "  t.fillcolor(color)\n",
        "  t.begin_fill()\n",
        "  t.left(90)\n",
        "  t.forward(height)\n",
        "  t.right(90)\n",
        "  t.forward(40)\n",
        "  t.right(90)\n",
        "  t.forward(height)\n",
        "  t.left(90)\n",
        "  t.end_fill()\n",
        "\n",
        "\n",
        "tess = turtle.Turtle() #instanciação\n",
        "jn = turtle.Screen()\n",
        "\n",
        "tess.color(\"blue\")\n",
        "jn.bgcolor(\"white\")\n",
        "tess.penup() #levantar a caneta\n",
        "tess.goto(-200,-150) #mudar posicao de inicio\n",
        "tess.pendown() #abaixar a caneta\n",
        "\n",
        "valores = input(\"Insira uma lista de frequencias separados por virgula:\")\n",
        "valores = map(float,valores.split(\",\"))\n",
        "\n",
        "color = input(\"Escolha a cor da barra:\")\n",
        "  \n",
        "if type(valores) == list:\n",
        "  for valor in valores:\n",
        "    draw_bar(tess, valor, color)\n",
        "else:\n",
        "  print(\"não foi inserido uma lista\")\n",
        "\n",
        "turtle.mainloop()\n",
        "    draw_bar(tess, a, color)"
      ],
      "execution_count": null,
      "outputs": []
    },
    {
      "cell_type": "code",
      "metadata": {
        "id": "DjQIhLOUCz9g"
      },
      "source": [
        "import turtle\n",
        "\n",
        "def draw_bar(t, height,color):\n",
        "  \"\"\" Get turtle t to draw one bar, of height. \"\"\"\n",
        "  t.fillcolor(color)\n",
        "  t.begin_fill()\n",
        "  t.left(90)\n",
        "  t.forward(height)\n",
        "  t.right(90)\n",
        "  t.forward(40)\n",
        "  t.right(90)\n",
        "  t.forward(height)\n",
        "  t.left(90)\n",
        "  t.end_fill()\n",
        "\n",
        "\n",
        "tess = turtle.Turtle() #instanciação\n",
        "jn = turtle.Screen()\n",
        "\n",
        "tess.color(\"blue\")\n",
        "jn.bgcolor(\"white\")\n",
        "tess.penup() #levantar a caneta\n",
        "tess.goto(-200,-150) #mudar posicao de inicio\n",
        "tess.pendown() #abaixar a caneta\n",
        "\n",
        "valores = input(\"Insira uma lista de frequencias separados por virgula:\")\n",
        "valores = map(float,valores.split(\",\"))\n",
        "\n",
        "color = input(\"Escolha a cor da barra:\")\n",
        "  \n",
        "try:\n",
        "  for valor in valores:\n",
        "    draw_bar(tess, valor, color)\n",
        "except:\n",
        "  print(\"não foi inserido uma lista\")\n",
        "\n",
        "turtle.mainloop()"
      ],
      "execution_count": null,
      "outputs": []
    }
  ]
}