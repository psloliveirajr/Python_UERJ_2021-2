{
  "nbformat": 4,
  "nbformat_minor": 0,
  "metadata": {
    "colab": {
      "name": "exercicio9.ipynb",
      "provenance": [],
      "collapsed_sections": [],
      "include_colab_link": true
    },
    "kernelspec": {
      "display_name": "Python 3",
      "language": "python",
      "name": "python3"
    },
    "language_info": {
      "codemirror_mode": {
        "name": "ipython",
        "version": 3
      },
      "file_extension": ".py",
      "mimetype": "text/x-python",
      "name": "python",
      "nbconvert_exporter": "python",
      "pygments_lexer": "ipython3",
      "version": "3.7.0"
    }
  },
  "cells": [
    {
      "cell_type": "markdown",
      "metadata": {
        "id": "view-in-github",
        "colab_type": "text"
      },
      "source": [
        "<a href=\"https://colab.research.google.com/github/psloliveirajr/Python_UERJ_2021-2/blob/main/exercicio9.ipynb\" target=\"_parent\"><img src=\"https://colab.research.google.com/assets/colab-badge.svg\" alt=\"Open In Colab\"/></a>"
      ]
    },
    {
      "cell_type": "markdown",
      "metadata": {
        "id": "E9ITlrNBiutZ"
      },
      "source": [
        "## Exercícios\n",
        "\n",
        "1) Considere a função abaixo. Esse tipo de função é considerada uma **função modificadora** pois modifica o objeto que é passado como argumento. "
      ]
    },
    {
      "cell_type": "code",
      "metadata": {
        "colab": {
          "base_uri": "https://localhost:8080/"
        },
        "id": "iKwmsYgeiutZ",
        "outputId": "b623bded-d437-41fc-bded-63b1f61cd69d"
      },
      "source": [
        "def dobrar_elementos(uma_lista):\n",
        "    \"\"\" Reescreve os elementos de uma_lista com o dobro de seus valores originais.\n",
        "    \"\"\"\n",
        "    for (i, valor) in enumerate(uma_lista):\n",
        "        novo_elem = 2 * valor\n",
        "        uma_lista[i] = novo_elem\n",
        "\n",
        "    return uma_lista\n",
        "\n",
        "minha_lista = [2, 4, 6]\n",
        "print(minha_lista)\n",
        "dobrar_elementos(minha_lista)\n",
        "print(minha_lista)"
      ],
      "execution_count": null,
      "outputs": [
        {
          "name": "stdout",
          "output_type": "stream",
          "text": [
            "[2, 4, 6]\n",
            "[4, 8, 12]\n"
          ]
        }
      ]
    },
    {
      "cell_type": "markdown",
      "metadata": {
        "id": "i23JYSmRiutb"
      },
      "source": [
        "a) Modifique a função para retornar uma **nova lista**, sem modificar a lista usada como parâmetro. Esse tipo de função é chamado de **função pura**.\n",
        "\n",
        "\n",
        "b) Modifique a documentação de ajuda da nova função, de tal forma que quando se chame a função ***help*** da nova função, se obtenha a descrição adequada."
      ]
    },
    {
      "cell_type": "code",
      "metadata": {
        "id": "RgYPzOGCiutc"
      },
      "source": [
        "help(dobrar_elementos)"
      ],
      "execution_count": null,
      "outputs": []
    },
    {
      "cell_type": "code",
      "metadata": {
        "colab": {
          "base_uri": "https://localhost:8080/"
        },
        "id": "tmKDZTws-PuD",
        "outputId": "f5a88f8d-dd0f-46a4-c35c-120fde9e51f7"
      },
      "source": [
        "# sorteando elementos de uma lista com o módulo random:\n",
        "import random\n",
        "\n",
        "nomes=['Helena', 'Dilson', 'Janaina', 'Isabela']\n",
        "sorteado = random.choice(nomes)\n",
        "print(sorteado)"
      ],
      "execution_count": null,
      "outputs": [
        {
          "name": "stdout",
          "output_type": "stream",
          "text": [
            "Isabela\n"
          ]
        }
      ]
    },
    {
      "cell_type": "code",
      "metadata": {
        "colab": {
          "base_uri": "https://localhost:8080/"
        },
        "id": "oCwi8XVT17X_",
        "outputId": "80f47d22-7e2a-4e52-c413-5c69dff149f2"
      },
      "source": [
        "def dobrar_elementos(uma_lista):\n",
        "    \"\"\" Escreve uma lista com o dobro de seus valores originais dos elementos de uma_lista.\n",
        "    \"\"\"\n",
        "    nova_lista = [valor*2 for valor in uma_lista]\n",
        "    return nova_lista\n",
        "\n",
        "minha_lista = [2, 4, 6]\n",
        "print(minha_lista)\n",
        "nova_lista = dobrar_elementos(minha_lista)\n",
        "print(nova_lista)\n",
        "print(minha_lista)"
      ],
      "execution_count": null,
      "outputs": [
        {
          "name": "stdout",
          "output_type": "stream",
          "text": [
            "[2, 4, 6]\n",
            "[4, 8, 12]\n",
            "[2, 4, 6]\n"
          ]
        }
      ]
    },
    {
      "cell_type": "code",
      "metadata": {
        "colab": {
          "base_uri": "https://localhost:8080/"
        },
        "id": "pjoT-dCUePz5",
        "outputId": "b7d6f184-badd-40ab-fc24-0af20f50a54b"
      },
      "source": [
        "%%writefile dados_alunos_cabecalho.csv\n",
        "I(a),A(m),M(Kg)\n",
        "18,1.68,80\n",
        "18,1.94,60\n",
        "18,1.7,80\n",
        "18,1.76,66\n",
        "19,1.73,87.5\n",
        "18,1.66,58\n",
        "21,1.8,92\n",
        "18,1.6,57\n",
        "18,1.67,64\n",
        "18,1.73,57\n",
        "17,1.73,75\n",
        "18,1.61,59\n",
        "18,1.69,90\n",
        "17,1.71,67\n",
        "19,1.78,60\n",
        "22,1.68,72\n",
        "18,1.7,73\n",
        "19,1.64,86\n",
        "18,1.64,75\n",
        "20,1.8,95\n",
        "17,1.75,60\n",
        "18,1.78,75\n",
        "18,1.75,65\n",
        "17,1.69,60\n",
        "19,1.78,73\n",
        "18,1.7,63\n",
        "34,1.75,78\n",
        "18,1.64,64\n",
        "19,1.75,50\n",
        "18,1.67,61\n",
        "18,1.7,70\n",
        "20,1.8,60\n",
        "18,1.63,57\n",
        "23,1.89,110\n",
        "18,1.71,71\n",
        "18,1.65,65\n",
        "17,1.72,67\n",
        "19,1.65,58\n",
        "18,1.75,90\n",
        "18,1.7,64\n",
        "19,1.81,70\n",
        "19,1.65,43\n",
        "28,1.52,50\n",
        "19,1.79,78\n",
        "26,1.79,82\n",
        "19,1.75,61\n",
        "19,1.8,70\n",
        "20,1.75,70\n",
        "20,1.73,70\n",
        "19,1.7,50\n",
        "22,1.78,72\n",
        "19,1.77,55\n",
        "18,1.53,58\n",
        "28,1.54,50\n",
        "20,1.83,70\n",
        "44,1.85,90\n",
        "18,1.6,51"
      ],
      "execution_count": null,
      "outputs": [
        {
          "output_type": "stream",
          "name": "stdout",
          "text": [
            "Overwriting dados_alunos_cabecalho.csv\n"
          ]
        }
      ]
    },
    {
      "cell_type": "markdown",
      "metadata": {
        "id": "LkKV2_H23Ts1"
      },
      "source": [
        "## Exercícios:\n",
        "\n",
        "1) Utilizando um arquivo de dados com várias colunas (por exemplo, o arquivo ```dados_alunos.txt```), faça um histograma com os dados de cada uma das colunas. **Dica**: utilize o ***matplotlib*** para fazer os histogramas.\n",
        "\n",
        "2) Estude os métodos do módulo ```os``` e faça um script que liste todos os arquivos de um dado diretório assim como de seus subdiretórios. **Dica**: use o método ```walk```.\n",
        "\n",
        "3) **Reescreva o script dessa aula, ```lcount.py``` na forma de uma módulo. Qual o valor da variável ```__name__``` quando o módulo é importado?**\n",
        "\n",
        "4) Escreva uma função chamada ler_arquivos que tome como argumento um nome de arquivo, leia um arquivo com um número qualquer de colunas e retorne um **dicionário** que tenha como *keys* os números das colunas e como valor uma lista dos valores associados a cada coluna do arquivo. Use o arquivo dados_alunos.txt. Caso o arquivo tiver o cabeçalho das colunas, p.ex. dados_alunos_cabecalho.txt, a key deve ser a palavra do cabeçalho.\n",
        "\n",
        "   * Caso não queria usar dicionários, você pode pensar em uma estrutura de dados alternativa para armazenar os dados do arquivo, como por exemplo uma ou mais listas.\n",
        "   * Também pode usar funções já existentes nos módulos de Python `numpy` ou `pandas` para ler arquivos de texto e armazenar nas estruturas desses módulos (`DataFrames` ou `arrays`).\n",
        "   * Adapte a função acima para, se ocorrer um erro ao abrir, ler ou fechar arquivos, o programa capturar a exceção, imprimir uma mensagem de erro e sair.\n",
        "\n",
        "5) **Adapte o script acima para ser um módulo.**\n",
        "\n",
        "**6) Escreva um script que importe o módulo criado acima e faça um histograma para cada coluna do arquivo, com seus respectivos valores. Use o dicionário ou a estrutura de dados criada em 1).**\n",
        "\n",
        "7) Adicione uma função ao script criado em 6), que calcule o desvio padrão amostral, desvio padrão populacional e média de cada distribuição representada nos histogramas acima. Para tal, use o módulo `statistics` do Python ou outro módulo de Python (`numpy`, `scipy`)."
      ]
    },
    {
      "cell_type": "code",
      "metadata": {
        "id": "KyjiKYE4yd8d"
      },
      "source": [
        "# Questão 4\n",
        "import pandas as pd\n",
        "def ler_arquivos(path):\n",
        "  df = pd.read_csv(path)\n",
        "  return df\n",
        "\n",
        "df = ler_arquivos(\"dados_alunos_cabecalho.csv\")"
      ],
      "execution_count": null,
      "outputs": []
    },
    {
      "cell_type": "code",
      "metadata": {
        "id": "xJTUJtBnHdyD"
      },
      "source": [
        "# Questão 1\n",
        "import matplotlib.pyplot as plt\n",
        "\n",
        "plt.hist(df[\"A(m)\"],range=(df[\"A(m)\"].min(),df[\"A(m)\"].max()),bins = int((df[\"A(m)\"].max()-df[\"A(m)\"].min())*10)+1)\n",
        "plt.show()\n",
        "\n",
        "plt.hist(df[\"I(a)\"],range=(df[\"I(a)\"].min(),df[\"I(a)\"].max()),bins = df[\"I(a)\"].max() - df[\"I(a)\"].min())\n",
        "plt.show()\n",
        "\n",
        "plt.hist(df[\"M(Kg)\"],range=(df[\"M(Kg)\"].min(),df[\"M(Kg)\"].max()),bins = int(df[\"M(Kg)\"].max()-df[\"M(Kg)\"].min()))\n",
        "plt.show()"
      ],
      "execution_count": null,
      "outputs": []
    },
    {
      "cell_type": "code",
      "metadata": {
        "id": "CWr6LBMpp_1_"
      },
      "source": [
        "# Questão 2\n",
        "import os \n",
        "\n",
        "path = \"/content\"\n",
        "for (dirpath, dirnames, filenames) in os.walk(path):\n",
        "  print(dirpath) \n",
        "  for names in dirnames:\n",
        "    print(\"\\t\",names)\n",
        "  for names in filenames:\n",
        "    print(\"\\t\",names)\n"
      ],
      "execution_count": null,
      "outputs": []
    },
    {
      "cell_type": "code",
      "metadata": {
        "colab": {
          "base_uri": "https://localhost:8080/"
        },
        "id": "44poRblYuJ6s",
        "outputId": "ba3dd8ba-4bb9-4e16-d65f-faec0a3e0fb6"
      },
      "source": [
        "# Questão 3\n",
        "%%writefile lcount.py\n",
        "\n",
        "def linecount(filename):\n",
        "    count = 0\n",
        "    for line in open(filename):\n",
        "        count += 1\n",
        "    return count\n",
        "    \n",
        "if __name__ == '__main__':\n",
        "    print(linecount('lcount.py'))"
      ],
      "execution_count": null,
      "outputs": [
        {
          "output_type": "stream",
          "name": "stdout",
          "text": [
            "Overwriting lcount.py\n"
          ]
        }
      ]
    },
    {
      "cell_type": "code",
      "metadata": {
        "colab": {
          "base_uri": "https://localhost:8080/"
        },
        "id": "7QIfU0Xiy8kK",
        "outputId": "26650ed2-cb22-4c16-bf38-5c2ea8be7efe"
      },
      "source": [
        "# Questão 5\n",
        "%%writefile leitor.py\n",
        "\n",
        "import pandas as pd\n",
        "\n",
        "def ler_arquivos(path):\n",
        "  df = pd.read_csv(path)\n",
        "  return df\n",
        "  \n",
        "if __name__ == '__main__':\n",
        "  ler_arquivos(\"dados_alunos_cabecalho.csv\")"
      ],
      "execution_count": null,
      "outputs": [
        {
          "output_type": "stream",
          "name": "stdout",
          "text": [
            "Writing leitor.py\n"
          ]
        }
      ]
    },
    {
      "cell_type": "code",
      "metadata": {
        "colab": {
          "base_uri": "https://localhost:8080/",
          "height": 764
        },
        "id": "Vc_3Ni671cPc",
        "outputId": "ae4704ae-c28b-4fea-d766-83e26e38af13"
      },
      "source": [
        "# Questão 6\n",
        "import leitor\n",
        "\n",
        "df = leitor.ler_arquivos(\"dados_alunos_cabecalho.csv\")\n",
        "\n",
        "plt.hist(df[\"A(m)\"],range=(df[\"A(m)\"].min(),df[\"A(m)\"].max()),bins = int((df[\"A(m)\"].max()-df[\"A(m)\"].min())*10)+1)\n",
        "plt.show()\n",
        "\n",
        "plt.hist(df[\"I(a)\"],range=(df[\"I(a)\"].min(),df[\"I(a)\"].max()),bins = df[\"I(a)\"].max() - df[\"I(a)\"].min())\n",
        "plt.show()\n",
        "\n",
        "plt.hist(df[\"M(Kg)\"],range=(df[\"M(Kg)\"].min(),df[\"M(Kg)\"].max()),bins = int(df[\"M(Kg)\"].max()-df[\"M(Kg)\"].min()))\n",
        "plt.show()"
      ],
      "execution_count": null,
      "outputs": [
        {
          "output_type": "display_data",
          "data": {
            "image/png": "[encoded data removed]",
            "text/plain": [
              "<Figure size 432x288 with 1 Axes>"
            ]
          },
          "metadata": {
            "needs_background": "light"
          }
        },
        {
          "output_type": "display_data",
          "data": {
            "image/png": "[encoded data removed]",
            "text/plain": [
              "<Figure size 432x288 with 1 Axes>"
            ]
          },
          "metadata": {
            "needs_background": "light"
          }
        },
        {
          "output_type": "display_data",
          "data": {
            "image/png": "[encoded data removed]",
            "text/plain": [
              "<Figure size 432x288 with 1 Axes>"
            ]
          },
          "metadata": {
            "needs_background": "light"
          }
        }
      ]
    },
    {
      "cell_type": "code",
      "metadata": {
        "colab": {
          "base_uri": "https://localhost:8080/"
        },
        "id": "Pn0MMKCH2roG",
        "outputId": "845f3ddf-1921-4c4e-fc23-972f116a2c9d"
      },
      "source": [
        "# Questão 7\n",
        "import leitor\n",
        "import numpy as np\n",
        "\n",
        "df = leitor.ler_arquivos(\"dados_alunos_cabecalho.csv\")\n",
        "\n",
        "print(\"Desvio padrão amostral:\")\n",
        "for index,valor in df.std(ddof=1).items():\n",
        "  print(f\"{index}: {valor:.3f}\")\n",
        "print()\n",
        "\n",
        "print(\"Desvio padrão populacional:\")\n",
        "for index,valor in df.std(ddof=0).items():\n",
        "  print(f\"{index}: {valor:.3f}\")\n",
        "print()\n",
        "\n",
        "print(\"Média:\")\n",
        "for index,valor in df.median().items():\n",
        "  print(f\"{index}: {valor:.3f}\")\n",
        "print()"
      ],
      "execution_count": null,
      "outputs": [
        {
          "output_type": "stream",
          "name": "stdout",
          "text": [
            "Desvio padrão amostral:\n",
            "I(a): 4.453\n",
            "A(m): 0.083\n",
            "M(Kg): 13.225\n",
            "\n",
            "Desvio padrão populacional:\n",
            "I(a): 4.413\n",
            "A(m): 0.082\n",
            "M(Kg): 13.109\n",
            "\n",
            "Média:\n",
            "I(a): 18.000\n",
            "A(m): 1.720\n",
            "M(Kg): 67.000\n",
            "\n"
          ]
        }
      ]
    }
  ]
}