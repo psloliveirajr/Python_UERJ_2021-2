{
  "nbformat": 4,
  "nbformat_minor": 0,
  "metadata": {
    "kernelspec": {
      "display_name": "Python 3",
      "language": "python",
      "name": "python3"
    },
    "language_info": {
      "codemirror_mode": {
        "name": "ipython",
        "version": 3
      },
      "file_extension": ".py",
      "mimetype": "text/x-python",
      "name": "python",
      "nbconvert_exporter": "python",
      "pygments_lexer": "ipython3",
      "version": "3.7.0"
    },
    "colab": {
      "name": "exercicio2.ipynb",
      "provenance": [],
      "collapsed_sections": [
        "ovDMJX2TyAlZ",
        "VKVkWHALyAli",
        "fhVLq2sGyAll",
        "1D7bGyTuyAlr",
        "xLQU58LJyAl8",
        "9K0YVGLjyAmA",
        "LDYykqsryAmT",
        "5w0g3eItyAmZ",
        "t9JkW-fLyAmc",
        "LIEmLrEiyAmg",
        "Pg2nZDTayAmq",
        "ApWStk60yAm4",
        "Vz8GxGVqyAm5",
        "yvM-GLIOyAm6",
        "4S5d3rEkyAm9",
        "CmmYIGI7yAnP",
        "lY0k8SHNyAni"
      ],
      "include_colab_link": true
    }
  },
  "cells": [
    {
      "cell_type": "markdown",
      "metadata": {
        "id": "view-in-github",
        "colab_type": "text"
      },
      "source": [
        "<a href=\"https://colab.research.google.com/github/psloliveirajr/Python_UERJ_2021-2/blob/main/exercicio2.ipynb\" target=\"_parent\"><img src=\"https://colab.research.google.com/assets/colab-badge.svg\" alt=\"Open In Colab\"/></a>"
      ]
    },
    {
      "cell_type": "markdown",
      "metadata": {
        "id": "Vz8GxGVqyAm5"
      },
      "source": [
        "## Exercícios\n",
        "\n",
        "### Exercício 1:\n",
        "Considere as seguintes declarações de atribuições:\n",
        "   * largura = 17 \n",
        "   * altura = 12.0\n",
        "   * delimitador = \".\"\n",
        "   \n",
        "Para cada uma das expressões a seguir, escreva o valor das expressões e o tipo (do valor da expressão):\n",
        "1. largura/2\n",
        "1. largura/2.0\n",
        "1. altura/3\n",
        "1. 1 + 2 * 5\n",
        "1. delimitador*5\n",
        "\n",
        "Use o interpretador de python para verificar suas respostas.\n",
        "\n"
      ]
    },
    {
      "cell_type": "code",
      "metadata": {
        "colab": {
          "base_uri": "https://localhost:8080/"
        },
        "id": "f5aTDVzwoHxe",
        "outputId": "65d0f2a7-9c18-44ac-9a76-a6960c242a1b"
      },
      "source": [
        "largura = 17\n",
        "altura = 12.0\n",
        "delimitador = \".\"\n",
        "\n",
        "print(\"1.\", largura/2) # 8.5\n",
        "print(\"2.\", largura/2.0) # 8.5\n",
        "print(\"3.\", altura/3) # 4.0\n",
        "print(\"4.\", 1 + 2 * 5) # 11\n",
        "print(\"5.\", delimitador*5) # \".....\" "
      ],
      "execution_count": null,
      "outputs": [
        {
          "output_type": "stream",
          "text": [
            "1. 8.5\n",
            "2. 8.5\n",
            "3. 4.0\n",
            "4. 11\n",
            "5. .....\n"
          ],
          "name": "stdout"
        }
      ]
    },
    {
      "cell_type": "markdown",
      "metadata": {
        "id": "P2pNQ_LaoB5r"
      },
      "source": [
        "### Exercício 2:\n",
        "O volume de uma esfera de raio *r* é $\\frac{4}{3} \\pi r^{3}$ \n",
        "\n",
        "Qual é o volume de uma esfera de raio 5?\n",
        "\n"
      ]
    },
    {
      "cell_type": "code",
      "metadata": {
        "colab": {
          "base_uri": "https://localhost:8080/"
        },
        "id": "oSl-pFhjpJCk",
        "outputId": "30474a6d-fe1a-4051-d88b-dd85ff3045f0"
      },
      "source": [
        "import math\n",
        "raio = int(input(\"Digite o raio da esfera: \"))\n",
        "volume_esfera = (4/3)*math.pi*raio**3\n",
        "\n",
        "print(\"O volume da esfera de raio=\",raio,\"tem volume:\",volume_esfera)"
      ],
      "execution_count": null,
      "outputs": [
        {
          "output_type": "stream",
          "text": [
            "Digite o raio da esfera: 5\n",
            "O volume da esfera de raio= 5 tem volume: 523.5987755982989\n"
          ],
          "name": "stdout"
        }
      ]
    },
    {
      "cell_type": "markdown",
      "metadata": {
        "id": "5Jwp_bELoD9M"
      },
      "source": [
        "### Exercício 3:\n",
        "Suponha que o preço de um livro seja 24.95 reais, porém as livrarias têm desconto de 40%. Os custos de envio são de 3.00 reais para o primeiro livro e 0.75 reais para os livros adicionais. Qual é o custo total da compra de 60 livros?  \n",
        "\n"
      ]
    },
    {
      "cell_type": "code",
      "metadata": {
        "colab": {
          "base_uri": "https://localhost:8080/"
        },
        "id": "tBei935AtbWe",
        "outputId": "6c048360-2a03-48f0-9201-816ecf4db3af"
      },
      "source": [
        "preco_livro = 24.95\n",
        "desconto = 0.4\n",
        "quantidade_livro = 60\n",
        "\n",
        "custo_livros = quantidade_livro*(preco_livro*(1-desconto))\n",
        "custo_envio = 3 + (quantidade_livro-1)*0.75\n",
        "\n",
        "custo_total = custo_livros+custo_envio\n",
        "\n",
        "print(\"o custo total da compra de 60 livros é: R$\",custo_total)"
      ],
      "execution_count": null,
      "outputs": [
        {
          "output_type": "stream",
          "text": [
            "o custo total da compra de 60 livros é: R$ 945.4499999999999\n"
          ],
          "name": "stdout"
        }
      ]
    },
    {
      "cell_type": "code",
      "metadata": {
        "colab": {
          "base_uri": "https://localhost:8080/"
        },
        "id": "iGFPST_ZwG0N",
        "outputId": "de0eae97-da49-426a-e6c2-1b4e13343e44"
      },
      "source": [
        "custo_livros"
      ],
      "execution_count": null,
      "outputs": [
        {
          "output_type": "execute_result",
          "data": {
            "text/plain": [
              "898.1999999999999"
            ]
          },
          "metadata": {},
          "execution_count": 15
        }
      ]
    },
    {
      "cell_type": "markdown",
      "metadata": {
        "id": "5wuVFSDhoFWM"
      },
      "source": [
        "### Exercício 4:\n",
        "Um laser vermelho (com comprimento de onda $\\lambda = 632.8$ nm) incide em uma fenda dupla produzindo um padrão de interferência com franjas claras e escuras, em um anteparo situado a uma distância D = 1.98 m da fenda. Calcule a distância $\\Delta y$ entre dois máximos consecutivos de interferência. Considere o espaçamento entre as fendas, $d$, como sendo igual a 0.250 mm.\n",
        "*Dica: a distância entre dois máximos de interferência consecutivos pode ser aproximada por $\\Delta y = \\frac{\\lambda D}{d}$.*"
      ]
    },
    {
      "cell_type": "code",
      "metadata": {
        "colab": {
          "base_uri": "https://localhost:8080/"
        },
        "id": "Bm7TLfphwajO",
        "outputId": "b828fb05-048d-4cbc-df78-e0bb9c7fc183"
      },
      "source": [
        "comprimento_onda = 632.8 # nanometros\n",
        "distancia_anteparo = 1.98 # metros\n",
        "espacos_fendas = 0.25 # milimetros\n",
        "\n",
        "distancia_maximo_interferencia = ((comprimento_onda/1000000)*(distancia_anteparo*1000))/espacos_fendas\n",
        "\n",
        "print(\"A distância entre dois máximos de interferência consecutivos em milímetros é:\",distancia_maximo_interferencia)"
      ],
      "execution_count": null,
      "outputs": [
        {
          "output_type": "stream",
          "text": [
            "A distância entre dois máximos de interferência consecutivos em milímetros é: 5.011776\n"
          ],
          "name": "stdout"
        }
      ]
    }
  ]
}